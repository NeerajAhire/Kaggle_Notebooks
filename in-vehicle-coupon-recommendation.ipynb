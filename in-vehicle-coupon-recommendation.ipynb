{
 "cells": [
  {
   "cell_type": "markdown",
   "id": "56aa9f0d",
   "metadata": {
    "papermill": {
     "duration": 0.01658,
     "end_time": "2023-01-17T15:22:29.328750",
     "exception": false,
     "start_time": "2023-01-17T15:22:29.312170",
     "status": "completed"
    },
    "tags": []
   },
   "source": [
    "# **In Vehicle Coupon Recommendation**\n",
    "Analysis of an Amazon data set corresponding to in-vehicle coupon recommendation for a driver under different scenarios relating to destination, current time, weather etc.(feature variables) and whether the driver accepts the coupon or not (target variable).\n",
    "Dataset Source- https://archive.ics.uci.edu/ml/datasets/in-vehicle+coupon+recommendation\n"
   ]
  },
  {
   "cell_type": "code",
   "execution_count": 1,
   "id": "2caa8860",
   "metadata": {
    "execution": {
     "iopub.execute_input": "2023-01-17T15:22:29.362003Z",
     "iopub.status.busy": "2023-01-17T15:22:29.360561Z",
     "iopub.status.idle": "2023-01-17T15:22:29.374532Z",
     "shell.execute_reply": "2023-01-17T15:22:29.373388Z"
    },
    "papermill": {
     "duration": 0.033284,
     "end_time": "2023-01-17T15:22:29.377170",
     "exception": false,
     "start_time": "2023-01-17T15:22:29.343886",
     "status": "completed"
    },
    "tags": []
   },
   "outputs": [],
   "source": [
    "import pandas as pd, numpy as np, matplotlib.pyplot as plt\n"
   ]
  },
  {
   "cell_type": "code",
   "execution_count": 2,
   "id": "c5024b6b",
   "metadata": {
    "execution": {
     "iopub.execute_input": "2023-01-17T15:22:29.410603Z",
     "iopub.status.busy": "2023-01-17T15:22:29.409315Z",
     "iopub.status.idle": "2023-01-17T15:22:30.079549Z",
     "shell.execute_reply": "2023-01-17T15:22:30.078055Z"
    },
    "papermill": {
     "duration": 0.690102,
     "end_time": "2023-01-17T15:22:30.082570",
     "exception": false,
     "start_time": "2023-01-17T15:22:29.392468",
     "status": "completed"
    },
    "tags": []
   },
   "outputs": [],
   "source": [
    "#Importing the dataset\n",
    "data = pd.read_csv('https://archive.ics.uci.edu/ml/machine-learning-databases/00603/in-vehicle-coupon-recommendation.csv')\n",
    "data = pd.DataFrame(data)"
   ]
  },
  {
   "cell_type": "markdown",
   "id": "fc99bdcd",
   "metadata": {
    "papermill": {
     "duration": 0.014965,
     "end_time": "2023-01-17T15:22:30.113596",
     "exception": false,
     "start_time": "2023-01-17T15:22:30.098631",
     "status": "completed"
    },
    "tags": []
   },
   "source": [
    "### **EDA & Preprocessing**"
   ]
  },
  {
   "cell_type": "code",
   "execution_count": 3,
   "id": "b51e7be0",
   "metadata": {
    "execution": {
     "iopub.execute_input": "2023-01-17T15:22:30.146109Z",
     "iopub.status.busy": "2023-01-17T15:22:30.144990Z",
     "iopub.status.idle": "2023-01-17T15:22:30.215533Z",
     "shell.execute_reply": "2023-01-17T15:22:30.213885Z"
    },
    "papermill": {
     "duration": 0.089638,
     "end_time": "2023-01-17T15:22:30.218373",
     "exception": false,
     "start_time": "2023-01-17T15:22:30.128735",
     "status": "completed"
    },
    "tags": []
   },
   "outputs": [
    {
     "name": "stdout",
     "output_type": "stream",
     "text": [
      "<class 'pandas.core.frame.DataFrame'>\n",
      "RangeIndex: 12684 entries, 0 to 12683\n",
      "Data columns (total 26 columns):\n",
      " #   Column                Non-Null Count  Dtype \n",
      "---  ------                --------------  ----- \n",
      " 0   destination           12684 non-null  object\n",
      " 1   passanger             12684 non-null  object\n",
      " 2   weather               12684 non-null  object\n",
      " 3   temperature           12684 non-null  int64 \n",
      " 4   time                  12684 non-null  object\n",
      " 5   coupon                12684 non-null  object\n",
      " 6   expiration            12684 non-null  object\n",
      " 7   gender                12684 non-null  object\n",
      " 8   age                   12684 non-null  object\n",
      " 9   maritalStatus         12684 non-null  object\n",
      " 10  has_children          12684 non-null  int64 \n",
      " 11  education             12684 non-null  object\n",
      " 12  occupation            12684 non-null  object\n",
      " 13  income                12684 non-null  object\n",
      " 14  car                   108 non-null    object\n",
      " 15  Bar                   12577 non-null  object\n",
      " 16  CoffeeHouse           12467 non-null  object\n",
      " 17  CarryAway             12533 non-null  object\n",
      " 18  RestaurantLessThan20  12554 non-null  object\n",
      " 19  Restaurant20To50      12495 non-null  object\n",
      " 20  toCoupon_GEQ5min      12684 non-null  int64 \n",
      " 21  toCoupon_GEQ15min     12684 non-null  int64 \n",
      " 22  toCoupon_GEQ25min     12684 non-null  int64 \n",
      " 23  direction_same        12684 non-null  int64 \n",
      " 24  direction_opp         12684 non-null  int64 \n",
      " 25  Y                     12684 non-null  int64 \n",
      "dtypes: int64(8), object(18)\n",
      "memory usage: 2.5+ MB\n"
     ]
    },
    {
     "data": {
      "text/html": [
       "<div>\n",
       "<style scoped>\n",
       "    .dataframe tbody tr th:only-of-type {\n",
       "        vertical-align: middle;\n",
       "    }\n",
       "\n",
       "    .dataframe tbody tr th {\n",
       "        vertical-align: top;\n",
       "    }\n",
       "\n",
       "    .dataframe thead th {\n",
       "        text-align: right;\n",
       "    }\n",
       "</style>\n",
       "<table border=\"1\" class=\"dataframe\">\n",
       "  <thead>\n",
       "    <tr style=\"text-align: right;\">\n",
       "      <th></th>\n",
       "      <th>destination</th>\n",
       "      <th>passanger</th>\n",
       "      <th>weather</th>\n",
       "      <th>temperature</th>\n",
       "      <th>time</th>\n",
       "      <th>coupon</th>\n",
       "      <th>expiration</th>\n",
       "      <th>gender</th>\n",
       "      <th>age</th>\n",
       "      <th>maritalStatus</th>\n",
       "      <th>...</th>\n",
       "      <th>CoffeeHouse</th>\n",
       "      <th>CarryAway</th>\n",
       "      <th>RestaurantLessThan20</th>\n",
       "      <th>Restaurant20To50</th>\n",
       "      <th>toCoupon_GEQ5min</th>\n",
       "      <th>toCoupon_GEQ15min</th>\n",
       "      <th>toCoupon_GEQ25min</th>\n",
       "      <th>direction_same</th>\n",
       "      <th>direction_opp</th>\n",
       "      <th>Y</th>\n",
       "    </tr>\n",
       "  </thead>\n",
       "  <tbody>\n",
       "    <tr>\n",
       "      <th>0</th>\n",
       "      <td>No Urgent Place</td>\n",
       "      <td>Alone</td>\n",
       "      <td>Sunny</td>\n",
       "      <td>55</td>\n",
       "      <td>2PM</td>\n",
       "      <td>Restaurant(&lt;20)</td>\n",
       "      <td>1d</td>\n",
       "      <td>Female</td>\n",
       "      <td>21</td>\n",
       "      <td>Unmarried partner</td>\n",
       "      <td>...</td>\n",
       "      <td>never</td>\n",
       "      <td>NaN</td>\n",
       "      <td>4~8</td>\n",
       "      <td>1~3</td>\n",
       "      <td>1</td>\n",
       "      <td>0</td>\n",
       "      <td>0</td>\n",
       "      <td>0</td>\n",
       "      <td>1</td>\n",
       "      <td>1</td>\n",
       "    </tr>\n",
       "    <tr>\n",
       "      <th>1</th>\n",
       "      <td>No Urgent Place</td>\n",
       "      <td>Friend(s)</td>\n",
       "      <td>Sunny</td>\n",
       "      <td>80</td>\n",
       "      <td>10AM</td>\n",
       "      <td>Coffee House</td>\n",
       "      <td>2h</td>\n",
       "      <td>Female</td>\n",
       "      <td>21</td>\n",
       "      <td>Unmarried partner</td>\n",
       "      <td>...</td>\n",
       "      <td>never</td>\n",
       "      <td>NaN</td>\n",
       "      <td>4~8</td>\n",
       "      <td>1~3</td>\n",
       "      <td>1</td>\n",
       "      <td>0</td>\n",
       "      <td>0</td>\n",
       "      <td>0</td>\n",
       "      <td>1</td>\n",
       "      <td>0</td>\n",
       "    </tr>\n",
       "    <tr>\n",
       "      <th>2</th>\n",
       "      <td>No Urgent Place</td>\n",
       "      <td>Friend(s)</td>\n",
       "      <td>Sunny</td>\n",
       "      <td>80</td>\n",
       "      <td>10AM</td>\n",
       "      <td>Carry out &amp; Take away</td>\n",
       "      <td>2h</td>\n",
       "      <td>Female</td>\n",
       "      <td>21</td>\n",
       "      <td>Unmarried partner</td>\n",
       "      <td>...</td>\n",
       "      <td>never</td>\n",
       "      <td>NaN</td>\n",
       "      <td>4~8</td>\n",
       "      <td>1~3</td>\n",
       "      <td>1</td>\n",
       "      <td>1</td>\n",
       "      <td>0</td>\n",
       "      <td>0</td>\n",
       "      <td>1</td>\n",
       "      <td>1</td>\n",
       "    </tr>\n",
       "    <tr>\n",
       "      <th>3</th>\n",
       "      <td>No Urgent Place</td>\n",
       "      <td>Friend(s)</td>\n",
       "      <td>Sunny</td>\n",
       "      <td>80</td>\n",
       "      <td>2PM</td>\n",
       "      <td>Coffee House</td>\n",
       "      <td>2h</td>\n",
       "      <td>Female</td>\n",
       "      <td>21</td>\n",
       "      <td>Unmarried partner</td>\n",
       "      <td>...</td>\n",
       "      <td>never</td>\n",
       "      <td>NaN</td>\n",
       "      <td>4~8</td>\n",
       "      <td>1~3</td>\n",
       "      <td>1</td>\n",
       "      <td>1</td>\n",
       "      <td>0</td>\n",
       "      <td>0</td>\n",
       "      <td>1</td>\n",
       "      <td>0</td>\n",
       "    </tr>\n",
       "    <tr>\n",
       "      <th>4</th>\n",
       "      <td>No Urgent Place</td>\n",
       "      <td>Friend(s)</td>\n",
       "      <td>Sunny</td>\n",
       "      <td>80</td>\n",
       "      <td>2PM</td>\n",
       "      <td>Coffee House</td>\n",
       "      <td>1d</td>\n",
       "      <td>Female</td>\n",
       "      <td>21</td>\n",
       "      <td>Unmarried partner</td>\n",
       "      <td>...</td>\n",
       "      <td>never</td>\n",
       "      <td>NaN</td>\n",
       "      <td>4~8</td>\n",
       "      <td>1~3</td>\n",
       "      <td>1</td>\n",
       "      <td>1</td>\n",
       "      <td>0</td>\n",
       "      <td>0</td>\n",
       "      <td>1</td>\n",
       "      <td>0</td>\n",
       "    </tr>\n",
       "    <tr>\n",
       "      <th>5</th>\n",
       "      <td>No Urgent Place</td>\n",
       "      <td>Friend(s)</td>\n",
       "      <td>Sunny</td>\n",
       "      <td>80</td>\n",
       "      <td>6PM</td>\n",
       "      <td>Restaurant(&lt;20)</td>\n",
       "      <td>2h</td>\n",
       "      <td>Female</td>\n",
       "      <td>21</td>\n",
       "      <td>Unmarried partner</td>\n",
       "      <td>...</td>\n",
       "      <td>never</td>\n",
       "      <td>NaN</td>\n",
       "      <td>4~8</td>\n",
       "      <td>1~3</td>\n",
       "      <td>1</td>\n",
       "      <td>1</td>\n",
       "      <td>0</td>\n",
       "      <td>0</td>\n",
       "      <td>1</td>\n",
       "      <td>1</td>\n",
       "    </tr>\n",
       "    <tr>\n",
       "      <th>6</th>\n",
       "      <td>No Urgent Place</td>\n",
       "      <td>Friend(s)</td>\n",
       "      <td>Sunny</td>\n",
       "      <td>55</td>\n",
       "      <td>2PM</td>\n",
       "      <td>Carry out &amp; Take away</td>\n",
       "      <td>1d</td>\n",
       "      <td>Female</td>\n",
       "      <td>21</td>\n",
       "      <td>Unmarried partner</td>\n",
       "      <td>...</td>\n",
       "      <td>never</td>\n",
       "      <td>NaN</td>\n",
       "      <td>4~8</td>\n",
       "      <td>1~3</td>\n",
       "      <td>1</td>\n",
       "      <td>1</td>\n",
       "      <td>0</td>\n",
       "      <td>0</td>\n",
       "      <td>1</td>\n",
       "      <td>1</td>\n",
       "    </tr>\n",
       "    <tr>\n",
       "      <th>7</th>\n",
       "      <td>No Urgent Place</td>\n",
       "      <td>Kid(s)</td>\n",
       "      <td>Sunny</td>\n",
       "      <td>80</td>\n",
       "      <td>10AM</td>\n",
       "      <td>Restaurant(&lt;20)</td>\n",
       "      <td>2h</td>\n",
       "      <td>Female</td>\n",
       "      <td>21</td>\n",
       "      <td>Unmarried partner</td>\n",
       "      <td>...</td>\n",
       "      <td>never</td>\n",
       "      <td>NaN</td>\n",
       "      <td>4~8</td>\n",
       "      <td>1~3</td>\n",
       "      <td>1</td>\n",
       "      <td>1</td>\n",
       "      <td>0</td>\n",
       "      <td>0</td>\n",
       "      <td>1</td>\n",
       "      <td>1</td>\n",
       "    </tr>\n",
       "    <tr>\n",
       "      <th>8</th>\n",
       "      <td>No Urgent Place</td>\n",
       "      <td>Kid(s)</td>\n",
       "      <td>Sunny</td>\n",
       "      <td>80</td>\n",
       "      <td>10AM</td>\n",
       "      <td>Carry out &amp; Take away</td>\n",
       "      <td>2h</td>\n",
       "      <td>Female</td>\n",
       "      <td>21</td>\n",
       "      <td>Unmarried partner</td>\n",
       "      <td>...</td>\n",
       "      <td>never</td>\n",
       "      <td>NaN</td>\n",
       "      <td>4~8</td>\n",
       "      <td>1~3</td>\n",
       "      <td>1</td>\n",
       "      <td>1</td>\n",
       "      <td>0</td>\n",
       "      <td>0</td>\n",
       "      <td>1</td>\n",
       "      <td>1</td>\n",
       "    </tr>\n",
       "    <tr>\n",
       "      <th>9</th>\n",
       "      <td>No Urgent Place</td>\n",
       "      <td>Kid(s)</td>\n",
       "      <td>Sunny</td>\n",
       "      <td>80</td>\n",
       "      <td>10AM</td>\n",
       "      <td>Bar</td>\n",
       "      <td>1d</td>\n",
       "      <td>Female</td>\n",
       "      <td>21</td>\n",
       "      <td>Unmarried partner</td>\n",
       "      <td>...</td>\n",
       "      <td>never</td>\n",
       "      <td>NaN</td>\n",
       "      <td>4~8</td>\n",
       "      <td>1~3</td>\n",
       "      <td>1</td>\n",
       "      <td>1</td>\n",
       "      <td>0</td>\n",
       "      <td>0</td>\n",
       "      <td>1</td>\n",
       "      <td>0</td>\n",
       "    </tr>\n",
       "  </tbody>\n",
       "</table>\n",
       "<p>10 rows × 26 columns</p>\n",
       "</div>"
      ],
      "text/plain": [
       "       destination  passanger weather  temperature  time  \\\n",
       "0  No Urgent Place      Alone   Sunny           55   2PM   \n",
       "1  No Urgent Place  Friend(s)   Sunny           80  10AM   \n",
       "2  No Urgent Place  Friend(s)   Sunny           80  10AM   \n",
       "3  No Urgent Place  Friend(s)   Sunny           80   2PM   \n",
       "4  No Urgent Place  Friend(s)   Sunny           80   2PM   \n",
       "5  No Urgent Place  Friend(s)   Sunny           80   6PM   \n",
       "6  No Urgent Place  Friend(s)   Sunny           55   2PM   \n",
       "7  No Urgent Place     Kid(s)   Sunny           80  10AM   \n",
       "8  No Urgent Place     Kid(s)   Sunny           80  10AM   \n",
       "9  No Urgent Place     Kid(s)   Sunny           80  10AM   \n",
       "\n",
       "                  coupon expiration  gender age      maritalStatus  ...  \\\n",
       "0        Restaurant(<20)         1d  Female  21  Unmarried partner  ...   \n",
       "1           Coffee House         2h  Female  21  Unmarried partner  ...   \n",
       "2  Carry out & Take away         2h  Female  21  Unmarried partner  ...   \n",
       "3           Coffee House         2h  Female  21  Unmarried partner  ...   \n",
       "4           Coffee House         1d  Female  21  Unmarried partner  ...   \n",
       "5        Restaurant(<20)         2h  Female  21  Unmarried partner  ...   \n",
       "6  Carry out & Take away         1d  Female  21  Unmarried partner  ...   \n",
       "7        Restaurant(<20)         2h  Female  21  Unmarried partner  ...   \n",
       "8  Carry out & Take away         2h  Female  21  Unmarried partner  ...   \n",
       "9                    Bar         1d  Female  21  Unmarried partner  ...   \n",
       "\n",
       "   CoffeeHouse CarryAway RestaurantLessThan20 Restaurant20To50  \\\n",
       "0        never       NaN                  4~8              1~3   \n",
       "1        never       NaN                  4~8              1~3   \n",
       "2        never       NaN                  4~8              1~3   \n",
       "3        never       NaN                  4~8              1~3   \n",
       "4        never       NaN                  4~8              1~3   \n",
       "5        never       NaN                  4~8              1~3   \n",
       "6        never       NaN                  4~8              1~3   \n",
       "7        never       NaN                  4~8              1~3   \n",
       "8        never       NaN                  4~8              1~3   \n",
       "9        never       NaN                  4~8              1~3   \n",
       "\n",
       "  toCoupon_GEQ5min toCoupon_GEQ15min toCoupon_GEQ25min direction_same  \\\n",
       "0                1                 0                 0              0   \n",
       "1                1                 0                 0              0   \n",
       "2                1                 1                 0              0   \n",
       "3                1                 1                 0              0   \n",
       "4                1                 1                 0              0   \n",
       "5                1                 1                 0              0   \n",
       "6                1                 1                 0              0   \n",
       "7                1                 1                 0              0   \n",
       "8                1                 1                 0              0   \n",
       "9                1                 1                 0              0   \n",
       "\n",
       "  direction_opp  Y  \n",
       "0             1  1  \n",
       "1             1  0  \n",
       "2             1  1  \n",
       "3             1  0  \n",
       "4             1  0  \n",
       "5             1  1  \n",
       "6             1  1  \n",
       "7             1  1  \n",
       "8             1  1  \n",
       "9             1  0  \n",
       "\n",
       "[10 rows x 26 columns]"
      ]
     },
     "execution_count": 3,
     "metadata": {},
     "output_type": "execute_result"
    }
   ],
   "source": [
    "data.info()\n",
    "data.head(10)"
   ]
  },
  {
   "cell_type": "markdown",
   "id": "9e7a46df",
   "metadata": {
    "papermill": {
     "duration": 0.015913,
     "end_time": "2023-01-17T15:22:30.250351",
     "exception": false,
     "start_time": "2023-01-17T15:22:30.234438",
     "status": "completed"
    },
    "tags": []
   },
   "source": [
    "So, the dataset has 12684 entries, with a mix of categorical and ordinal features (total 25) and 'Y' being the target variable with values 1 or 0 indicating coupon accepted or rejected. For complete details and explation of each feature, refer to the dataset source link.\n",
    "\n",
    "Let's continue with null values analysis."
   ]
  },
  {
   "cell_type": "code",
   "execution_count": 4,
   "id": "c688c286",
   "metadata": {
    "execution": {
     "iopub.execute_input": "2023-01-17T15:22:30.284517Z",
     "iopub.status.busy": "2023-01-17T15:22:30.283810Z",
     "iopub.status.idle": "2023-01-17T15:22:30.305953Z",
     "shell.execute_reply": "2023-01-17T15:22:30.304572Z"
    },
    "papermill": {
     "duration": 0.042197,
     "end_time": "2023-01-17T15:22:30.308615",
     "exception": false,
     "start_time": "2023-01-17T15:22:30.266418",
     "status": "completed"
    },
    "tags": []
   },
   "outputs": [
    {
     "name": "stdout",
     "output_type": "stream",
     "text": [
      "destination-0\n",
      "passanger-0\n",
      "weather-0\n",
      "temperature-0\n",
      "time-0\n",
      "coupon-0\n",
      "expiration-0\n",
      "gender-0\n",
      "age-0\n",
      "maritalStatus-0\n",
      "has_children-0\n",
      "education-0\n",
      "occupation-0\n",
      "income-0\n",
      "car-12576\n",
      "Bar-107\n",
      "CoffeeHouse-217\n",
      "CarryAway-151\n",
      "RestaurantLessThan20-130\n",
      "Restaurant20To50-189\n",
      "toCoupon_GEQ5min-0\n",
      "toCoupon_GEQ15min-0\n",
      "toCoupon_GEQ25min-0\n",
      "direction_same-0\n",
      "direction_opp-0\n",
      "Y-0\n"
     ]
    }
   ],
   "source": [
    "for i in list(data.columns.values):\n",
    "    print(i + \"-\" + str(data[i].isna().sum()))\n"
   ]
  },
  {
   "cell_type": "markdown",
   "id": "4d955224",
   "metadata": {
    "papermill": {
     "duration": 0.015249,
     "end_time": "2023-01-17T15:22:30.339626",
     "exception": false,
     "start_time": "2023-01-17T15:22:30.324377",
     "status": "completed"
    },
    "tags": []
   },
   "source": [
    "Some features do have null values. Lets us see with a visualization."
   ]
  },
  {
   "cell_type": "code",
   "execution_count": 5,
   "id": "24651d2c",
   "metadata": {
    "execution": {
     "iopub.execute_input": "2023-01-17T15:22:30.372562Z",
     "iopub.status.busy": "2023-01-17T15:22:30.372159Z",
     "iopub.status.idle": "2023-01-17T15:22:30.664297Z",
     "shell.execute_reply": "2023-01-17T15:22:30.663080Z"
    },
    "papermill": {
     "duration": 0.311785,
     "end_time": "2023-01-17T15:22:30.667068",
     "exception": false,
     "start_time": "2023-01-17T15:22:30.355283",
     "status": "completed"
    },
    "tags": []
   },
   "outputs": [
    {
     "data": {
      "image/png": "[encoded data removed]",
      "text/plain": [
       "<Figure size 432x288 with 1 Axes>"
      ]
     },
     "metadata": {
      "needs_background": "light"
     },
     "output_type": "display_data"
    }
   ],
   "source": [
    "def plot_nas(df: pd.DataFrame):\n",
    "    if df.isnull().sum().sum() != 0:\n",
    "        na_df = (df.isnull().sum() / len(df)) * 100\n",
    "        na_df = na_df.drop(na_df[na_df == 0].index).sort_values(ascending=False)\n",
    "        missing_data = pd.DataFrame({'Missing Ratio %' :na_df})\n",
    "        missing_data.plot(kind = \"barh\")\n",
    "        plt.yticks(rotation = 60, size = 7)\n",
    "        plt.show()\n",
    "    else:\n",
    "        print('No NAs found')\n",
    "plot_nas(data)"
   ]
  },
  {
   "cell_type": "markdown",
   "id": "9ac595e0",
   "metadata": {
    "papermill": {
     "duration": 0.016979,
     "end_time": "2023-01-17T15:22:30.700607",
     "exception": false,
     "start_time": "2023-01-17T15:22:30.683628",
     "status": "completed"
    },
    "tags": []
   },
   "source": [
    "Removing features with >80% null values. There is only one such feature. Also, dropping all rows containing null values."
   ]
  },
  {
   "cell_type": "code",
   "execution_count": 6,
   "id": "5b8f5a44",
   "metadata": {
    "execution": {
     "iopub.execute_input": "2023-01-17T15:22:30.735147Z",
     "iopub.status.busy": "2023-01-17T15:22:30.734340Z",
     "iopub.status.idle": "2023-01-17T15:22:30.776874Z",
     "shell.execute_reply": "2023-01-17T15:22:30.775604Z"
    },
    "papermill": {
     "duration": 0.063757,
     "end_time": "2023-01-17T15:22:30.780409",
     "exception": false,
     "start_time": "2023-01-17T15:22:30.716652",
     "status": "completed"
    },
    "tags": []
   },
   "outputs": [],
   "source": [
    "limitPer = len(data) * .80\n",
    "data = data.dropna(thresh=limitPer, axis=1)\n",
    "data = data.dropna(how='any',axis=0)"
   ]
  },
  {
   "cell_type": "markdown",
   "id": "90af613d",
   "metadata": {
    "papermill": {
     "duration": 0.017248,
     "end_time": "2023-01-17T15:22:30.815711",
     "exception": false,
     "start_time": "2023-01-17T15:22:30.798463",
     "status": "completed"
    },
    "tags": []
   },
   "source": [
    "Now, plotting histograms of all the features to see their value distributions."
   ]
  },
  {
   "cell_type": "code",
   "execution_count": 7,
   "id": "54e63c07",
   "metadata": {
    "execution": {
     "iopub.execute_input": "2023-01-17T15:22:30.853500Z",
     "iopub.status.busy": "2023-01-17T15:22:30.852828Z",
     "iopub.status.idle": "2023-01-17T15:22:33.569650Z",
     "shell.execute_reply": "2023-01-17T15:22:33.568482Z"
    },
    "papermill": {
     "duration": 2.737719,
     "end_time": "2023-01-17T15:22:33.572453",
     "exception": false,
     "start_time": "2023-01-17T15:22:30.834734",
     "status": "completed"
    },
    "tags": []
   },
   "outputs": [
    {
     "data": {
      "image/png": "[encoded data removed]",
      "text/plain": [
       "<Figure size 1080x504 with 25 Axes>"
      ]
     },
     "metadata": {
      "needs_background": "light"
     },
     "output_type": "display_data"
    }
   ],
   "source": [
    "fig = plt.figure(figsize=(15,7))\n",
    "for i, var_name in enumerate(data.columns.to_list()):\n",
    "            ax=fig.add_subplot(5,5,i+1)\n",
    "            data[var_name].hist(bins=5,ax=ax)\n",
    "            plt.tick_params(axis='x', labelbottom=False)\n",
    "            ax.set_title(var_name)\n",
    "fig.tight_layout()\n",
    "plt.show()"
   ]
  },
  {
   "cell_type": "markdown",
   "id": "027999b3",
   "metadata": {
    "papermill": {
     "duration": 0.016411,
     "end_time": "2023-01-17T15:22:33.605855",
     "exception": false,
     "start_time": "2023-01-17T15:22:33.589444",
     "status": "completed"
    },
    "tags": []
   },
   "source": [
    "The feature 'toCoupon_GEQ5min'(feature meaning: driving time to the restaurant/bar for using the coupon is greater than 25 minutes) has only one value in all entries. Clearly it should be removed. Also, direction_same & direction_opp are have a linear inverse relationship so one of them will be dropped."
   ]
  },
  {
   "cell_type": "code",
   "execution_count": 8,
   "id": "cefec5f1",
   "metadata": {
    "execution": {
     "iopub.execute_input": "2023-01-17T15:22:33.642877Z",
     "iopub.status.busy": "2023-01-17T15:22:33.642045Z",
     "iopub.status.idle": "2023-01-17T15:22:33.651650Z",
     "shell.execute_reply": "2023-01-17T15:22:33.650539Z"
    },
    "papermill": {
     "duration": 0.031622,
     "end_time": "2023-01-17T15:22:33.654473",
     "exception": false,
     "start_time": "2023-01-17T15:22:33.622851",
     "status": "completed"
    },
    "tags": []
   },
   "outputs": [],
   "source": [
    "data.drop(['toCoupon_GEQ5min', 'direction_opp'], axis=1, inplace=True)"
   ]
  },
  {
   "cell_type": "markdown",
   "id": "f57a7378",
   "metadata": {
    "papermill": {
     "duration": 0.016453,
     "end_time": "2023-01-17T15:22:33.687781",
     "exception": false,
     "start_time": "2023-01-17T15:22:33.671328",
     "status": "completed"
    },
    "tags": []
   },
   "source": [
    "Now, creating dummy variables for all of our categorical features."
   ]
  },
  {
   "cell_type": "code",
   "execution_count": 9,
   "id": "79bc7119",
   "metadata": {
    "execution": {
     "iopub.execute_input": "2023-01-17T15:22:33.725557Z",
     "iopub.status.busy": "2023-01-17T15:22:33.724861Z",
     "iopub.status.idle": "2023-01-17T15:22:34.020751Z",
     "shell.execute_reply": "2023-01-17T15:22:34.019624Z"
    },
    "papermill": {
     "duration": 0.318345,
     "end_time": "2023-01-17T15:22:34.023604",
     "exception": false,
     "start_time": "2023-01-17T15:22:33.705259",
     "status": "completed"
    },
    "tags": []
   },
   "outputs": [],
   "source": [
    "data_features = data.columns[:-1]\n",
    "dummy_list = data.select_dtypes(include=['object']).columns\n",
    "data['temperature'] = data['temperature'].apply(str)\n",
    "dummy_list = dummy_list.append([pd.Index(['temperature'])])\n",
    "for i in dummy_list :\n",
    "    data[i] = i + \"-\" + data[i]\n",
    "\n",
    "for i in dummy_list:\n",
    "    d = pd.get_dummies(data[i], drop_first=True)\n",
    "    data.drop(i, axis=1, inplace = True)\n",
    "    data = pd.concat([d, data], axis=1)\n",
    "data.reset_index(drop=True, inplace=True)"
   ]
  },
  {
   "cell_type": "markdown",
   "id": "54ce4251",
   "metadata": {
    "papermill": {
     "duration": 0.017047,
     "end_time": "2023-01-17T15:22:34.058161",
     "exception": false,
     "start_time": "2023-01-17T15:22:34.041114",
     "status": "completed"
    },
    "tags": []
   },
   "source": [
    "As the next step, looking into correlation between the dummy variables with a heatmap."
   ]
  },
  {
   "cell_type": "code",
   "execution_count": 10,
   "id": "04ac331d",
   "metadata": {
    "execution": {
     "iopub.execute_input": "2023-01-17T15:22:34.095321Z",
     "iopub.status.busy": "2023-01-17T15:22:34.094641Z",
     "iopub.status.idle": "2023-01-17T15:22:35.860183Z",
     "shell.execute_reply": "2023-01-17T15:22:35.858996Z"
    },
    "papermill": {
     "duration": 1.78714,
     "end_time": "2023-01-17T15:22:35.862826",
     "exception": false,
     "start_time": "2023-01-17T15:22:34.075686",
     "status": "completed"
    },
    "tags": []
   },
   "outputs": [
    {
     "data": {
      "text/plain": [
       "<AxesSubplot:>"
      ]
     },
     "execution_count": 10,
     "metadata": {},
     "output_type": "execute_result"
    },
    {
     "data": {
      "image/png": "[encoded data removed]",
      "text/plain": [
       "<Figure size 432x288 with 2 Axes>"
      ]
     },
     "metadata": {
      "needs_background": "light"
     },
     "output_type": "display_data"
    }
   ],
   "source": [
    "import seaborn as sns\n",
    "corr = data.corr()\n",
    "sns.heatmap(corr,\n",
    "        xticklabels=False,\n",
    "        yticklabels=False)"
   ]
  },
  {
   "cell_type": "markdown",
   "id": "b3529011",
   "metadata": {
    "papermill": {
     "duration": 0.017098,
     "end_time": "2023-01-17T15:22:35.898055",
     "exception": false,
     "start_time": "2023-01-17T15:22:35.880957",
     "status": "completed"
    },
    "tags": []
   },
   "source": [
    "It appears, some dummy variables have a high level of correlation. Some even appear to be perfectly correlated, let's find out which."
   ]
  },
  {
   "cell_type": "code",
   "execution_count": 11,
   "id": "b3b740c2",
   "metadata": {
    "execution": {
     "iopub.execute_input": "2023-01-17T15:22:35.935306Z",
     "iopub.status.busy": "2023-01-17T15:22:35.934518Z",
     "iopub.status.idle": "2023-01-17T15:22:35.953163Z",
     "shell.execute_reply": "2023-01-17T15:22:35.951439Z"
    },
    "papermill": {
     "duration": 0.04015,
     "end_time": "2023-01-17T15:22:35.955689",
     "exception": false,
     "start_time": "2023-01-17T15:22:35.915539",
     "status": "completed"
    },
    "tags": []
   },
   "outputs": [
    {
     "name": "stdout",
     "output_type": "stream",
     "text": [
      "                   idx              cols  value\n",
      "7354          time-7AM  destination-Work    1.0\n",
      "7991  destination-Work          time-7AM    1.0\n"
     ]
    }
   ],
   "source": [
    "corr = corr.rename_axis(index='idx', columns='cols')\n",
    "per_corr = corr.stack().reset_index(name='value').query('value == 1')\n",
    "print(per_corr[per_corr.idx != per_corr.cols])"
   ]
  },
  {
   "cell_type": "markdown",
   "id": "640a441a",
   "metadata": {
    "papermill": {
     "duration": 0.018247,
     "end_time": "2023-01-17T15:22:35.991971",
     "exception": false,
     "start_time": "2023-01-17T15:22:35.973724",
     "status": "completed"
    },
    "tags": []
   },
   "source": [
    "So, our dummy variables 'time-7AM' & 'destination-Work' are perfectly correlated. It also makes sense that they possibly could. So, dropping one of them."
   ]
  },
  {
   "cell_type": "code",
   "execution_count": 12,
   "id": "72013cf8",
   "metadata": {
    "execution": {
     "iopub.execute_input": "2023-01-17T15:22:36.030919Z",
     "iopub.status.busy": "2023-01-17T15:22:36.030222Z",
     "iopub.status.idle": "2023-01-17T15:22:36.039450Z",
     "shell.execute_reply": "2023-01-17T15:22:36.038344Z"
    },
    "papermill": {
     "duration": 0.031486,
     "end_time": "2023-01-17T15:22:36.041977",
     "exception": false,
     "start_time": "2023-01-17T15:22:36.010491",
     "status": "completed"
    },
    "tags": []
   },
   "outputs": [],
   "source": [
    "data.drop('time-7AM', axis=1, inplace=True)"
   ]
  },
  {
   "cell_type": "markdown",
   "id": "0f0f38c9",
   "metadata": {
    "papermill": {
     "duration": 0.017182,
     "end_time": "2023-01-17T15:22:36.076825",
     "exception": false,
     "start_time": "2023-01-17T15:22:36.059643",
     "status": "completed"
    },
    "tags": []
   },
   "source": [
    "### **Modelling**\n",
    "Just to emphasize, what we are dealing with is a classification problem. I intend to build and evaluate several models such as Logistic Regression, Support Vector Machine, Random Forest, XGBoost, Stacked Model."
   ]
  },
  {
   "cell_type": "markdown",
   "id": "637cf9e8",
   "metadata": {
    "papermill": {
     "duration": 0.017131,
     "end_time": "2023-01-17T15:22:36.111211",
     "exception": false,
     "start_time": "2023-01-17T15:22:36.094080",
     "status": "completed"
    },
    "tags": []
   },
   "source": [
    "#### **Creating Train-Test set**\n",
    "Creating Train-Test set with 70%-30% split of data."
   ]
  },
  {
   "cell_type": "code",
   "execution_count": 13,
   "id": "7b1134d4",
   "metadata": {
    "execution": {
     "iopub.execute_input": "2023-01-17T15:22:36.148530Z",
     "iopub.status.busy": "2023-01-17T15:22:36.147848Z",
     "iopub.status.idle": "2023-01-17T15:22:36.370763Z",
     "shell.execute_reply": "2023-01-17T15:22:36.368396Z"
    },
    "papermill": {
     "duration": 0.246312,
     "end_time": "2023-01-17T15:22:36.374764",
     "exception": false,
     "start_time": "2023-01-17T15:22:36.128452",
     "status": "completed"
    },
    "tags": []
   },
   "outputs": [],
   "source": [
    "from sklearn import model_selection\n",
    "data.columns = data.columns.str.translate(\"\".maketrans({\"[\":\"{\", \"]\":\"}\",\"<\":\"^\"}))\n",
    "\n",
    "X_train, X_test, Y_train, Y_test = model_selection.train_test_split(\n",
    "    data.loc[:, data.columns != 'Y'], data['Y'], test_size=0.3, random_state=0\n",
    ")"
   ]
  },
  {
   "cell_type": "markdown",
   "id": "f9a120d6",
   "metadata": {
    "papermill": {
     "duration": 0.017823,
     "end_time": "2023-01-17T15:22:36.415495",
     "exception": false,
     "start_time": "2023-01-17T15:22:36.397672",
     "status": "completed"
    },
    "tags": []
   },
   "source": [
    "#### **Base Model**\n",
    "Creating base majority class model for reference."
   ]
  },
  {
   "cell_type": "code",
   "execution_count": 14,
   "id": "dea4f13e",
   "metadata": {
    "execution": {
     "iopub.execute_input": "2023-01-17T15:22:36.453293Z",
     "iopub.status.busy": "2023-01-17T15:22:36.451865Z",
     "iopub.status.idle": "2023-01-17T15:22:36.460281Z",
     "shell.execute_reply": "2023-01-17T15:22:36.459276Z"
    },
    "papermill": {
     "duration": 0.029759,
     "end_time": "2023-01-17T15:22:36.462710",
     "exception": false,
     "start_time": "2023-01-17T15:22:36.432951",
     "status": "completed"
    },
    "tags": []
   },
   "outputs": [],
   "source": [
    "from sklearn.dummy import DummyClassifier\n",
    "Y_train.value_counts()\n",
    "base_model = DummyClassifier()"
   ]
  },
  {
   "cell_type": "markdown",
   "id": "74583c57",
   "metadata": {
    "papermill": {
     "duration": 0.017029,
     "end_time": "2023-01-17T15:22:36.497783",
     "exception": false,
     "start_time": "2023-01-17T15:22:36.480754",
     "status": "completed"
    },
    "tags": []
   },
   "source": [
    "let's check accuracy and other metrics."
   ]
  },
  {
   "cell_type": "code",
   "execution_count": 15,
   "id": "95dfa240",
   "metadata": {
    "execution": {
     "iopub.execute_input": "2023-01-17T15:22:36.534833Z",
     "iopub.status.busy": "2023-01-17T15:22:36.534113Z",
     "iopub.status.idle": "2023-01-17T15:22:36.595405Z",
     "shell.execute_reply": "2023-01-17T15:22:36.593860Z"
    },
    "papermill": {
     "duration": 0.083404,
     "end_time": "2023-01-17T15:22:36.598653",
     "exception": false,
     "start_time": "2023-01-17T15:22:36.515249",
     "status": "completed"
    },
    "tags": []
   },
   "outputs": [
    {
     "name": "stdout",
     "output_type": "stream",
     "text": [
      "0.5674748669426375\n",
      "              precision    recall  f1-score   support\n",
      "\n",
      "           0       0.00      0.00      0.00      3657\n",
      "           1       0.57      1.00      0.72      4798\n",
      "\n",
      "    accuracy                           0.57      8455\n",
      "   macro avg       0.28      0.50      0.36      8455\n",
      "weighted avg       0.32      0.57      0.41      8455\n",
      "\n"
     ]
    },
    {
     "name": "stderr",
     "output_type": "stream",
     "text": [
      "/opt/conda/lib/python3.7/site-packages/sklearn/metrics/_classification.py:1318: UndefinedMetricWarning: Precision and F-score are ill-defined and being set to 0.0 in labels with no predicted samples. Use `zero_division` parameter to control this behavior.\n",
      "  _warn_prf(average, modifier, msg_start, len(result))\n",
      "/opt/conda/lib/python3.7/site-packages/sklearn/metrics/_classification.py:1318: UndefinedMetricWarning: Precision and F-score are ill-defined and being set to 0.0 in labels with no predicted samples. Use `zero_division` parameter to control this behavior.\n",
      "  _warn_prf(average, modifier, msg_start, len(result))\n",
      "/opt/conda/lib/python3.7/site-packages/sklearn/metrics/_classification.py:1318: UndefinedMetricWarning: Precision and F-score are ill-defined and being set to 0.0 in labels with no predicted samples. Use `zero_division` parameter to control this behavior.\n",
      "  _warn_prf(average, modifier, msg_start, len(result))\n"
     ]
    }
   ],
   "source": [
    "from sklearn.metrics import classification_report, confusion_matrix, accuracy_score\n",
    "base_predict = model_selection.cross_val_predict(base_model, X_train, Y_train, cv =5)\n",
    "print(accuracy_score(Y_train, base_predict))\n",
    "print(classification_report(Y_train, base_predict))"
   ]
  },
  {
   "cell_type": "markdown",
   "id": "3b4f3119",
   "metadata": {
    "papermill": {
     "duration": 0.017186,
     "end_time": "2023-01-17T15:22:36.633717",
     "exception": false,
     "start_time": "2023-01-17T15:22:36.616531",
     "status": "completed"
    },
    "tags": []
   },
   "source": [
    "So, cross-validation accuracy of base model is **0.57**. "
   ]
  },
  {
   "cell_type": "markdown",
   "id": "b60f6d8d",
   "metadata": {
    "papermill": {
     "duration": 0.017877,
     "end_time": "2023-01-17T15:22:36.669790",
     "exception": false,
     "start_time": "2023-01-17T15:22:36.651913",
     "status": "completed"
    },
    "tags": []
   },
   "source": [
    "#### **Logistic Regression Model**\n",
    "Creating Logistic Regression model. Also, using grid search for hyperparameter tuning."
   ]
  },
  {
   "cell_type": "code",
   "execution_count": 16,
   "id": "4eceedd1",
   "metadata": {
    "execution": {
     "iopub.execute_input": "2023-01-17T15:22:36.706996Z",
     "iopub.status.busy": "2023-01-17T15:22:36.706396Z",
     "iopub.status.idle": "2023-01-17T15:22:36.794484Z",
     "shell.execute_reply": "2023-01-17T15:22:36.793032Z"
    },
    "papermill": {
     "duration": 0.109934,
     "end_time": "2023-01-17T15:22:36.797420",
     "exception": false,
     "start_time": "2023-01-17T15:22:36.687486",
     "status": "completed"
    },
    "tags": []
   },
   "outputs": [],
   "source": [
    "from sklearn.linear_model import LogisticRegression\n",
    "logclassifier = LogisticRegression(class_weight = 'balanced', max_iter=10000)\n",
    "parameters_logclassifier = {'penalty':['elasticnet'],'C':[1, 5, 10],'l1_ratio':[0, 0.25, 0.5, 0.75, 1],'solver':['saga']}\n",
    "logclassifier_grid = model_selection.GridSearchCV(logclassifier, parameters_logclassifier)"
   ]
  },
  {
   "cell_type": "markdown",
   "id": "60fe5146",
   "metadata": {
    "papermill": {
     "duration": 0.017584,
     "end_time": "2023-01-17T15:22:36.833557",
     "exception": false,
     "start_time": "2023-01-17T15:22:36.815973",
     "status": "completed"
    },
    "tags": []
   },
   "source": [
    "Fitting the model."
   ]
  },
  {
   "cell_type": "code",
   "execution_count": 17,
   "id": "534df4dc",
   "metadata": {
    "execution": {
     "iopub.execute_input": "2023-01-17T15:22:36.872335Z",
     "iopub.status.busy": "2023-01-17T15:22:36.871156Z",
     "iopub.status.idle": "2023-01-17T15:23:23.249885Z",
     "shell.execute_reply": "2023-01-17T15:23:23.248645Z"
    },
    "papermill": {
     "duration": 46.419695,
     "end_time": "2023-01-17T15:23:23.271323",
     "exception": false,
     "start_time": "2023-01-17T15:22:36.851628",
     "status": "completed"
    },
    "tags": []
   },
   "outputs": [
    {
     "data": {
      "text/plain": [
       "GridSearchCV(estimator=LogisticRegression(class_weight='balanced',\n",
       "                                          max_iter=10000),\n",
       "             param_grid={'C': [1, 5, 10], 'l1_ratio': [0, 0.25, 0.5, 0.75, 1],\n",
       "                         'penalty': ['elasticnet'], 'solver': ['saga']})"
      ]
     },
     "execution_count": 17,
     "metadata": {},
     "output_type": "execute_result"
    }
   ],
   "source": [
    "logclassifier_grid.fit(X_train, Y_train)"
   ]
  },
  {
   "cell_type": "markdown",
   "id": "9b81dfc7",
   "metadata": {
    "papermill": {
     "duration": 0.017655,
     "end_time": "2023-01-17T15:23:23.307198",
     "exception": false,
     "start_time": "2023-01-17T15:23:23.289543",
     "status": "completed"
    },
    "tags": []
   },
   "source": [
    "Let's look at hyperparameters of the best estimators."
   ]
  },
  {
   "cell_type": "code",
   "execution_count": 18,
   "id": "c4c4073c",
   "metadata": {
    "execution": {
     "iopub.execute_input": "2023-01-17T15:23:23.346141Z",
     "iopub.status.busy": "2023-01-17T15:23:23.345721Z",
     "iopub.status.idle": "2023-01-17T15:23:23.352851Z",
     "shell.execute_reply": "2023-01-17T15:23:23.351478Z"
    },
    "papermill": {
     "duration": 0.030185,
     "end_time": "2023-01-17T15:23:23.355543",
     "exception": false,
     "start_time": "2023-01-17T15:23:23.325358",
     "status": "completed"
    },
    "tags": []
   },
   "outputs": [
    {
     "data": {
      "text/plain": [
       "{'C': 5, 'l1_ratio': 0.5, 'penalty': 'elasticnet', 'solver': 'saga'}"
      ]
     },
     "execution_count": 18,
     "metadata": {},
     "output_type": "execute_result"
    }
   ],
   "source": [
    "logclassifier_grid.best_params_"
   ]
  },
  {
   "cell_type": "markdown",
   "id": "39671d29",
   "metadata": {
    "papermill": {
     "duration": 0.020096,
     "end_time": "2023-01-17T15:23:23.397054",
     "exception": false,
     "start_time": "2023-01-17T15:23:23.376958",
     "status": "completed"
    },
    "tags": []
   },
   "source": [
    "Finally, evaluating the performance of the model."
   ]
  },
  {
   "cell_type": "code",
   "execution_count": 19,
   "id": "a7c8124a",
   "metadata": {
    "execution": {
     "iopub.execute_input": "2023-01-17T15:23:23.442613Z",
     "iopub.status.busy": "2023-01-17T15:23:23.441781Z",
     "iopub.status.idle": "2023-01-17T15:23:23.479815Z",
     "shell.execute_reply": "2023-01-17T15:23:23.478306Z"
    },
    "papermill": {
     "duration": 0.067973,
     "end_time": "2023-01-17T15:23:23.483923",
     "exception": false,
     "start_time": "2023-01-17T15:23:23.415950",
     "status": "completed"
    },
    "tags": []
   },
   "outputs": [
    {
     "name": "stdout",
     "output_type": "stream",
     "text": [
      "[[1067  478]\n",
      " [ 692 1387]]\n",
      "              precision    recall  f1-score   support\n",
      "\n",
      "           0       0.61      0.69      0.65      1545\n",
      "           1       0.74      0.67      0.70      2079\n",
      "\n",
      "    accuracy                           0.68      3624\n",
      "   macro avg       0.68      0.68      0.67      3624\n",
      "weighted avg       0.69      0.68      0.68      3624\n",
      "\n"
     ]
    }
   ],
   "source": [
    "predictions_logclassifiergrid = logclassifier_grid.best_estimator_.predict(X_test)\n",
    "print(confusion_matrix(Y_test, predictions_logclassifiergrid))\n",
    "print(classification_report(Y_test, predictions_logclassifiergrid))"
   ]
  },
  {
   "cell_type": "markdown",
   "id": "338b2464",
   "metadata": {
    "papermill": {
     "duration": 0.048596,
     "end_time": "2023-01-17T15:23:23.583817",
     "exception": false,
     "start_time": "2023-01-17T15:23:23.535221",
     "status": "completed"
    },
    "tags": []
   },
   "source": [
    "So, the accuracy is **0.68**."
   ]
  },
  {
   "cell_type": "markdown",
   "id": "e1802c19",
   "metadata": {
    "papermill": {
     "duration": 0.018074,
     "end_time": "2023-01-17T15:23:23.622936",
     "exception": false,
     "start_time": "2023-01-17T15:23:23.604862",
     "status": "completed"
    },
    "tags": []
   },
   "source": [
    "#### **Support Vector Machine**\n",
    "Let's evaluate performance of SVM for our classification task.\n"
   ]
  },
  {
   "cell_type": "code",
   "execution_count": 20,
   "id": "253d6c5a",
   "metadata": {
    "execution": {
     "iopub.execute_input": "2023-01-17T15:23:23.663677Z",
     "iopub.status.busy": "2023-01-17T15:23:23.663280Z",
     "iopub.status.idle": "2023-01-17T15:25:55.606312Z",
     "shell.execute_reply": "2023-01-17T15:25:55.605161Z"
    },
    "papermill": {
     "duration": 151.984528,
     "end_time": "2023-01-17T15:25:55.626883",
     "exception": false,
     "start_time": "2023-01-17T15:23:23.642355",
     "status": "completed"
    },
    "tags": []
   },
   "outputs": [
    {
     "data": {
      "text/plain": [
       "GridSearchCV(estimator=SVC(kernel='linear'),\n",
       "             param_grid={'C': [1, 10], 'kernel': ('linear', 'rbf')})"
      ]
     },
     "execution_count": 20,
     "metadata": {},
     "output_type": "execute_result"
    }
   ],
   "source": [
    "from sklearn.svm import SVC\n",
    "svclassifier = SVC(kernel='linear')\n",
    "parameters = {'kernel':('linear', 'rbf'), 'C':[1, 10]}\n",
    "svm_grid = model_selection.GridSearchCV(svclassifier, parameters)\n",
    "svm_grid.fit(X_train, Y_train)"
   ]
  },
  {
   "cell_type": "markdown",
   "id": "c5e4e624",
   "metadata": {
    "papermill": {
     "duration": 0.017695,
     "end_time": "2023-01-17T15:25:55.662516",
     "exception": false,
     "start_time": "2023-01-17T15:25:55.644821",
     "status": "completed"
    },
    "tags": []
   },
   "source": [
    "Cheking the best hyperparameters."
   ]
  },
  {
   "cell_type": "code",
   "execution_count": 21,
   "id": "47b55e98",
   "metadata": {
    "execution": {
     "iopub.execute_input": "2023-01-17T15:25:55.701236Z",
     "iopub.status.busy": "2023-01-17T15:25:55.700732Z",
     "iopub.status.idle": "2023-01-17T15:25:55.708141Z",
     "shell.execute_reply": "2023-01-17T15:25:55.706862Z"
    },
    "papermill": {
     "duration": 0.029532,
     "end_time": "2023-01-17T15:25:55.710357",
     "exception": false,
     "start_time": "2023-01-17T15:25:55.680825",
     "status": "completed"
    },
    "tags": []
   },
   "outputs": [
    {
     "data": {
      "text/plain": [
       "{'C': 10, 'kernel': 'rbf'}"
      ]
     },
     "execution_count": 21,
     "metadata": {},
     "output_type": "execute_result"
    }
   ],
   "source": [
    "svm_grid.best_params_"
   ]
  },
  {
   "cell_type": "markdown",
   "id": "1dc2114a",
   "metadata": {
    "papermill": {
     "duration": 0.018087,
     "end_time": "2023-01-17T15:25:55.746854",
     "exception": false,
     "start_time": "2023-01-17T15:25:55.728767",
     "status": "completed"
    },
    "tags": []
   },
   "source": [
    "Evaluating performance."
   ]
  },
  {
   "cell_type": "code",
   "execution_count": 22,
   "id": "df3e106e",
   "metadata": {
    "execution": {
     "iopub.execute_input": "2023-01-17T15:25:55.785740Z",
     "iopub.status.busy": "2023-01-17T15:25:55.785360Z",
     "iopub.status.idle": "2023-01-17T15:25:58.580351Z",
     "shell.execute_reply": "2023-01-17T15:25:58.578891Z"
    },
    "papermill": {
     "duration": 2.818979,
     "end_time": "2023-01-17T15:25:58.584324",
     "exception": false,
     "start_time": "2023-01-17T15:25:55.765345",
     "status": "completed"
    },
    "tags": []
   },
   "outputs": [
    {
     "name": "stdout",
     "output_type": "stream",
     "text": [
      "[[1091  454]\n",
      " [ 432 1647]]\n",
      "              precision    recall  f1-score   support\n",
      "\n",
      "           0       0.72      0.71      0.71      1545\n",
      "           1       0.78      0.79      0.79      2079\n",
      "\n",
      "    accuracy                           0.76      3624\n",
      "   macro avg       0.75      0.75      0.75      3624\n",
      "weighted avg       0.76      0.76      0.76      3624\n",
      "\n"
     ]
    }
   ],
   "source": [
    "predictions_svmgrid = svm_grid.best_estimator_.predict(X_test)\n",
    "print(confusion_matrix(Y_test, predictions_svmgrid))\n",
    "print(classification_report(Y_test, predictions_svmgrid))"
   ]
  },
  {
   "cell_type": "markdown",
   "id": "965b1f53",
   "metadata": {
    "papermill": {
     "duration": 0.018007,
     "end_time": "2023-01-17T15:25:58.621719",
     "exception": false,
     "start_time": "2023-01-17T15:25:58.603712",
     "status": "completed"
    },
    "tags": []
   },
   "source": [
    "It's better than LR with accuracy at about **0.76**."
   ]
  },
  {
   "cell_type": "markdown",
   "id": "d3965e8a",
   "metadata": {
    "papermill": {
     "duration": 0.018143,
     "end_time": "2023-01-17T15:25:58.657973",
     "exception": false,
     "start_time": "2023-01-17T15:25:58.639830",
     "status": "completed"
    },
    "tags": []
   },
   "source": [
    "#### **Random Forest**\n",
    "Implementing Random Forest. Let's see its performance on our data."
   ]
  },
  {
   "cell_type": "code",
   "execution_count": 23,
   "id": "c9e69b0c",
   "metadata": {
    "execution": {
     "iopub.execute_input": "2023-01-17T15:25:58.696846Z",
     "iopub.status.busy": "2023-01-17T15:25:58.695936Z",
     "iopub.status.idle": "2023-01-17T15:26:37.529394Z",
     "shell.execute_reply": "2023-01-17T15:26:37.528179Z"
    },
    "papermill": {
     "duration": 38.873629,
     "end_time": "2023-01-17T15:26:37.549801",
     "exception": false,
     "start_time": "2023-01-17T15:25:58.676172",
     "status": "completed"
    },
    "tags": []
   },
   "outputs": [
    {
     "data": {
      "text/plain": [
       "GridSearchCV(estimator=RandomForestClassifier(),\n",
       "             param_grid={'criterion': ('gini', 'entropy'),\n",
       "                         'n_estimators': [50, 100, 150]})"
      ]
     },
     "execution_count": 23,
     "metadata": {},
     "output_type": "execute_result"
    }
   ],
   "source": [
    "from sklearn.ensemble import RandomForestClassifier\n",
    "rfclassifier = RandomForestClassifier()\n",
    "parameters_rf = {'n_estimators':[50, 100, 150], 'criterion':('gini', 'entropy')}\n",
    "rf_grid = model_selection.GridSearchCV(rfclassifier, parameters_rf)\n",
    "rf_grid.fit(X_train, Y_train)"
   ]
  },
  {
   "cell_type": "code",
   "execution_count": 24,
   "id": "303138ae",
   "metadata": {
    "execution": {
     "iopub.execute_input": "2023-01-17T15:26:37.588559Z",
     "iopub.status.busy": "2023-01-17T15:26:37.588169Z",
     "iopub.status.idle": "2023-01-17T15:26:37.595906Z",
     "shell.execute_reply": "2023-01-17T15:26:37.594429Z"
    },
    "papermill": {
     "duration": 0.030763,
     "end_time": "2023-01-17T15:26:37.598694",
     "exception": false,
     "start_time": "2023-01-17T15:26:37.567931",
     "status": "completed"
    },
    "tags": []
   },
   "outputs": [
    {
     "data": {
      "text/plain": [
       "{'criterion': 'gini', 'n_estimators': 150}"
      ]
     },
     "execution_count": 24,
     "metadata": {},
     "output_type": "execute_result"
    }
   ],
   "source": [
    "rf_grid.best_params_"
   ]
  },
  {
   "cell_type": "code",
   "execution_count": 25,
   "id": "ae5067c6",
   "metadata": {
    "execution": {
     "iopub.execute_input": "2023-01-17T15:26:37.639008Z",
     "iopub.status.busy": "2023-01-17T15:26:37.638618Z",
     "iopub.status.idle": "2023-01-17T15:26:37.833598Z",
     "shell.execute_reply": "2023-01-17T15:26:37.832122Z"
    },
    "papermill": {
     "duration": 0.218204,
     "end_time": "2023-01-17T15:26:37.837025",
     "exception": false,
     "start_time": "2023-01-17T15:26:37.618821",
     "status": "completed"
    },
    "tags": []
   },
   "outputs": [
    {
     "name": "stdout",
     "output_type": "stream",
     "text": [
      "[[1016  529]\n",
      " [ 348 1731]]\n",
      "              precision    recall  f1-score   support\n",
      "\n",
      "           0       0.74      0.66      0.70      1545\n",
      "           1       0.77      0.83      0.80      2079\n",
      "\n",
      "    accuracy                           0.76      3624\n",
      "   macro avg       0.76      0.75      0.75      3624\n",
      "weighted avg       0.76      0.76      0.76      3624\n",
      "\n"
     ]
    }
   ],
   "source": [
    "predictions_rfgrid = rf_grid.best_estimator_.predict(X_test)\n",
    "print(confusion_matrix(Y_test, predictions_rfgrid))\n",
    "print(classification_report(Y_test, predictions_rfgrid))"
   ]
  },
  {
   "cell_type": "markdown",
   "id": "7912362d",
   "metadata": {
    "papermill": {
     "duration": 0.018703,
     "end_time": "2023-01-17T15:26:37.874995",
     "exception": false,
     "start_time": "2023-01-17T15:26:37.856292",
     "status": "completed"
    },
    "tags": []
   },
   "source": [
    "Accuracy of **0.76**, no improvement from SVM."
   ]
  },
  {
   "cell_type": "markdown",
   "id": "f82269c0",
   "metadata": {
    "papermill": {
     "duration": 0.01825,
     "end_time": "2023-01-17T15:26:37.911789",
     "exception": false,
     "start_time": "2023-01-17T15:26:37.893539",
     "status": "completed"
    },
    "tags": []
   },
   "source": [
    "##### **XGBoost**\n",
    "Evaluation of of boosting ensemble model XGBoost. "
   ]
  },
  {
   "cell_type": "code",
   "execution_count": 26,
   "id": "41bac418",
   "metadata": {
    "execution": {
     "iopub.execute_input": "2023-01-17T15:26:37.951218Z",
     "iopub.status.busy": "2023-01-17T15:26:37.950763Z",
     "iopub.status.idle": "2023-01-17T15:44:46.856898Z",
     "shell.execute_reply": "2023-01-17T15:44:46.855611Z"
    },
    "papermill": {
     "duration": 1088.942445,
     "end_time": "2023-01-17T15:44:46.873332",
     "exception": false,
     "start_time": "2023-01-17T15:26:37.930887",
     "status": "completed"
    },
    "tags": []
   },
   "outputs": [
    {
     "data": {
      "text/plain": [
       "GridSearchCV(estimator=XGBClassifier(base_score=None, booster=None,\n",
       "                                     callbacks=None, colsample_bylevel=None,\n",
       "                                     colsample_bynode=None,\n",
       "                                     colsample_bytree=None,\n",
       "                                     early_stopping_rounds=None,\n",
       "                                     enable_categorical=False, eval_metric=None,\n",
       "                                     gamma=None, gpu_id=None, grow_policy=None,\n",
       "                                     importance_type=None,\n",
       "                                     interaction_constraints=None,\n",
       "                                     learning_rate=None, max_bin=None,\n",
       "                                     max_cat_to_...,\n",
       "                                     max_delta_step=None, max_depth=None,\n",
       "                                     max_leaves=None, min_child_weight=None,\n",
       "                                     missing=nan, monotone_constraints=None,\n",
       "                                     n_estimators=100, n_jobs=None,\n",
       "                                     num_parallel_tree=None, predictor=None,\n",
       "                                     random_state=None, reg_alpha=None,\n",
       "                                     reg_lambda=None, ...),\n",
       "             param_grid={'learning_rate': [0.02, 0.025, 0.03, 0.035, 0.04],\n",
       "                         'max_depth': [4, 5, 6, 7, 8],\n",
       "                         'n_estimators': [50, 75, 100, 125, 150]})"
      ]
     },
     "execution_count": 26,
     "metadata": {},
     "output_type": "execute_result"
    }
   ],
   "source": [
    "from xgboost import XGBClassifier\n",
    "xgbclassifier = XGBClassifier()\n",
    "parameters_xgb = {'n_estimators':[50, 75, 100, 125, 150], 'learning_rate':[0.02, 0.025, 0.03, 0.035, 0.04],\n",
    "                 'max_depth':[4,5,6,7,8]}\n",
    "xgb_grid = model_selection.GridSearchCV(xgbclassifier, parameters_xgb)\n",
    "xgb_grid.fit(X_train, Y_train)"
   ]
  },
  {
   "cell_type": "code",
   "execution_count": 27,
   "id": "4774c36b",
   "metadata": {
    "execution": {
     "iopub.execute_input": "2023-01-17T15:44:46.913194Z",
     "iopub.status.busy": "2023-01-17T15:44:46.912122Z",
     "iopub.status.idle": "2023-01-17T15:44:46.919479Z",
     "shell.execute_reply": "2023-01-17T15:44:46.918322Z"
    },
    "papermill": {
     "duration": 0.029617,
     "end_time": "2023-01-17T15:44:46.921629",
     "exception": false,
     "start_time": "2023-01-17T15:44:46.892012",
     "status": "completed"
    },
    "tags": []
   },
   "outputs": [
    {
     "data": {
      "text/plain": [
       "{'learning_rate': 0.04, 'max_depth': 8, 'n_estimators': 150}"
      ]
     },
     "execution_count": 27,
     "metadata": {},
     "output_type": "execute_result"
    }
   ],
   "source": [
    "xgb_grid.best_params_"
   ]
  },
  {
   "cell_type": "code",
   "execution_count": 28,
   "id": "ade70dbc",
   "metadata": {
    "execution": {
     "iopub.execute_input": "2023-01-17T15:44:46.963012Z",
     "iopub.status.busy": "2023-01-17T15:44:46.962620Z",
     "iopub.status.idle": "2023-01-17T15:44:47.002803Z",
     "shell.execute_reply": "2023-01-17T15:44:47.001779Z"
    },
    "papermill": {
     "duration": 0.06568,
     "end_time": "2023-01-17T15:44:47.006154",
     "exception": false,
     "start_time": "2023-01-17T15:44:46.940474",
     "status": "completed"
    },
    "tags": []
   },
   "outputs": [
    {
     "name": "stdout",
     "output_type": "stream",
     "text": [
      "[[1040  505]\n",
      " [ 369 1710]]\n",
      "              precision    recall  f1-score   support\n",
      "\n",
      "           0       0.74      0.67      0.70      1545\n",
      "           1       0.77      0.82      0.80      2079\n",
      "\n",
      "    accuracy                           0.76      3624\n",
      "   macro avg       0.76      0.75      0.75      3624\n",
      "weighted avg       0.76      0.76      0.76      3624\n",
      "\n"
     ]
    }
   ],
   "source": [
    "predictions_xgbgrid = xgb_grid.best_estimator_.predict(X_test)\n",
    "print(confusion_matrix(Y_test, predictions_xgbgrid))\n",
    "print(classification_report(Y_test, predictions_xgbgrid))"
   ]
  },
  {
   "cell_type": "markdown",
   "id": "f15e2f38",
   "metadata": {
    "papermill": {
     "duration": 0.018824,
     "end_time": "2023-01-17T15:44:47.044176",
     "exception": false,
     "start_time": "2023-01-17T15:44:47.025352",
     "status": "completed"
    },
    "tags": []
   },
   "source": [
    "Not any improvement with XGBoost either with prediction accuracy **0.76**."
   ]
  },
  {
   "cell_type": "markdown",
   "id": "ce854145",
   "metadata": {
    "papermill": {
     "duration": 0.018883,
     "end_time": "2023-01-17T15:44:47.083109",
     "exception": false,
     "start_time": "2023-01-17T15:44:47.064226",
     "status": "completed"
    },
    "tags": []
   },
   "source": [
    "#### **Stacked Classifier**\n",
    "Creating a stacked classifier with SVC, RF & XGBoost with SVC also simultaneously used as final estimator."
   ]
  },
  {
   "cell_type": "code",
   "execution_count": 29,
   "id": "de082969",
   "metadata": {
    "execution": {
     "iopub.execute_input": "2023-01-17T15:44:47.122735Z",
     "iopub.status.busy": "2023-01-17T15:44:47.122289Z",
     "iopub.status.idle": "2023-01-17T15:46:02.626841Z",
     "shell.execute_reply": "2023-01-17T15:46:02.626043Z"
    },
    "papermill": {
     "duration": 75.546013,
     "end_time": "2023-01-17T15:46:02.647935",
     "exception": false,
     "start_time": "2023-01-17T15:44:47.101922",
     "status": "completed"
    },
    "tags": []
   },
   "outputs": [
    {
     "data": {
      "text/plain": [
       "StackingClassifier(estimators=[('xgb',\n",
       "                                XGBClassifier(base_score=0.5, booster='gbtree',\n",
       "                                              callbacks=None,\n",
       "                                              colsample_bylevel=1,\n",
       "                                              colsample_bynode=1,\n",
       "                                              colsample_bytree=1,\n",
       "                                              early_stopping_rounds=None,\n",
       "                                              enable_categorical=False,\n",
       "                                              eval_metric=None, gamma=0,\n",
       "                                              gpu_id=-1,\n",
       "                                              grow_policy='depthwise',\n",
       "                                              importance_type=None,\n",
       "                                              interaction_constraints='',\n",
       "                                              learning_rate=0.04, max_bin=256,\n",
       "                                              max_cat_to_onehot=4,\n",
       "                                              max_delta_step=0, max_depth=8,\n",
       "                                              max_leaves=0, min_child_weight=1,\n",
       "                                              missing=nan,\n",
       "                                              monotone_constraints='()',\n",
       "                                              n_estimators=150, n_jobs=0,\n",
       "                                              num_parallel_tree=1,\n",
       "                                              predictor='auto', random_state=0,\n",
       "                                              reg_alpha=0, reg_lambda=1, ...)),\n",
       "                               ('svm', SVC(C=10)),\n",
       "                               ('rf',\n",
       "                                RandomForestClassifier(n_estimators=150))],\n",
       "                   final_estimator=SVC(C=10))"
      ]
     },
     "execution_count": 29,
     "metadata": {},
     "output_type": "execute_result"
    }
   ],
   "source": [
    "from sklearn.ensemble import StackingClassifier\n",
    "\n",
    "final_estimator = svm_grid.best_estimator_\n",
    "\n",
    "stacked_model = StackingClassifier(\n",
    "                estimators=[('xgb', xgb_grid.best_estimator_), ('svm', svm_grid.best_estimator_)\n",
    "                ,('rf', rf_grid.best_estimator_)],\n",
    "                final_estimator = final_estimator)\n",
    "\n",
    "stacked_model.fit(X_train, Y_train)"
   ]
  },
  {
   "cell_type": "code",
   "execution_count": 30,
   "id": "eb564c66",
   "metadata": {
    "execution": {
     "iopub.execute_input": "2023-01-17T15:46:02.689787Z",
     "iopub.status.busy": "2023-01-17T15:46:02.689060Z",
     "iopub.status.idle": "2023-01-17T15:46:06.263471Z",
     "shell.execute_reply": "2023-01-17T15:46:06.262228Z"
    },
    "papermill": {
     "duration": 3.598224,
     "end_time": "2023-01-17T15:46:06.265910",
     "exception": false,
     "start_time": "2023-01-17T15:46:02.667686",
     "status": "completed"
    },
    "tags": []
   },
   "outputs": [
    {
     "name": "stdout",
     "output_type": "stream",
     "text": [
      "[[1056  489]\n",
      " [ 325 1754]]\n",
      "              precision    recall  f1-score   support\n",
      "\n",
      "           0       0.76      0.68      0.72      1545\n",
      "           1       0.78      0.84      0.81      2079\n",
      "\n",
      "    accuracy                           0.78      3624\n",
      "   macro avg       0.77      0.76      0.77      3624\n",
      "weighted avg       0.77      0.78      0.77      3624\n",
      "\n"
     ]
    }
   ],
   "source": [
    "predictions_sm = stacked_model.predict(X_test)\n",
    "print(confusion_matrix(Y_test, predictions_sm))\n",
    "print(classification_report(Y_test, predictions_sm))"
   ]
  },
  {
   "cell_type": "markdown",
   "id": "75ac1684",
   "metadata": {
    "papermill": {
     "duration": 0.019151,
     "end_time": "2023-01-17T15:46:06.304422",
     "exception": false,
     "start_time": "2023-01-17T15:46:06.285271",
     "status": "completed"
    },
    "tags": []
   },
   "source": [
    "So, accuracy for the stacking classifier - **0.78**"
   ]
  },
  {
   "cell_type": "markdown",
   "id": "b7068aec",
   "metadata": {
    "papermill": {
     "duration": 0.01882,
     "end_time": "2023-01-17T15:46:06.342603",
     "exception": false,
     "start_time": "2023-01-17T15:46:06.323783",
     "status": "completed"
    },
    "tags": []
   },
   "source": [
    "### **Interpretation**\n",
    "Interpreting the models and feature importances using SHAP(SHapley Additive exPlanations) values. Only LR and XGBoost. "
   ]
  },
  {
   "cell_type": "markdown",
   "id": "45a6371d",
   "metadata": {
    "papermill": {
     "duration": 0.026545,
     "end_time": "2023-01-17T15:46:06.388451",
     "exception": false,
     "start_time": "2023-01-17T15:46:06.361906",
     "status": "completed"
    },
    "tags": []
   },
   "source": [
    "#### **Logistic Regression**\n",
    "Logistic Regression Model feature importances using SHAP values."
   ]
  },
  {
   "cell_type": "code",
   "execution_count": 31,
   "id": "c0f4e178",
   "metadata": {
    "execution": {
     "iopub.execute_input": "2023-01-17T15:46:06.429715Z",
     "iopub.status.busy": "2023-01-17T15:46:06.429281Z",
     "iopub.status.idle": "2023-01-17T15:46:11.340683Z",
     "shell.execute_reply": "2023-01-17T15:46:11.339334Z"
    },
    "papermill": {
     "duration": 4.935141,
     "end_time": "2023-01-17T15:46:11.343635",
     "exception": false,
     "start_time": "2023-01-17T15:46:06.408494",
     "status": "completed"
    },
    "tags": []
   },
   "outputs": [
    {
     "data": {
      "image/png": "[encoded data removed]",
      "text/plain": [
       "<Figure size 576x396 with 2 Axes>"
      ]
     },
     "metadata": {
      "needs_background": "light"
     },
     "output_type": "display_data"
    }
   ],
   "source": [
    "import shap\n",
    "explainer = shap.Explainer(logclassifier_grid.best_estimator_, X_train, feature_names=data.columns[:-1])\n",
    "lr_shap_values = explainer(X_test)\n",
    "shap.plots.beeswarm(lr_shap_values)"
   ]
  },
  {
   "cell_type": "markdown",
   "id": "65bdb9cf",
   "metadata": {
    "papermill": {
     "duration": 0.019647,
     "end_time": "2023-01-17T15:46:11.383691",
     "exception": false,
     "start_time": "2023-01-17T15:46:11.364044",
     "status": "completed"
    },
    "tags": []
   },
   "source": [
    "The above plot shows the SHAP values as a measure of the impact of our dummy variables for their different values (here basically 0 & 1). For instance, looking at the top dummy variables on the plot, coupon-Carry out& Take away, Restaurant(<20USD) we can see SHAP values for low and high dummy variables values(0 & 1). The first two dummy variables have a higher positive SHAP value for '1' and negative for '0', however dummy variable expiration-2h has a higher negative SHAP value for '1' and positive for '0'.\n",
    "We can interpret their impact accordingly. \n",
    "\n",
    "Plotting total impact summary plot now,"
   ]
  },
  {
   "cell_type": "code",
   "execution_count": 32,
   "id": "362c1592",
   "metadata": {
    "execution": {
     "iopub.execute_input": "2023-01-17T15:46:11.426023Z",
     "iopub.status.busy": "2023-01-17T15:46:11.425409Z",
     "iopub.status.idle": "2023-01-17T15:46:11.912508Z",
     "shell.execute_reply": "2023-01-17T15:46:11.910875Z"
    },
    "papermill": {
     "duration": 0.511622,
     "end_time": "2023-01-17T15:46:11.915332",
     "exception": false,
     "start_time": "2023-01-17T15:46:11.403710",
     "status": "completed"
    },
    "tags": []
   },
   "outputs": [
    {
     "data": {
      "image/png": "[encoded data removed]",
      "text/plain": [
       "<Figure size 576x684 with 1 Axes>"
      ]
     },
     "metadata": {
      "needs_background": "light"
     },
     "output_type": "display_data"
    }
   ],
   "source": [
    "shap.summary_plot(lr_shap_values, X_test, plot_type=\"bar\")"
   ]
  },
  {
   "cell_type": "markdown",
   "id": "463f9cb9",
   "metadata": {
    "papermill": {
     "duration": 0.024435,
     "end_time": "2023-01-17T15:46:11.964321",
     "exception": false,
     "start_time": "2023-01-17T15:46:11.939886",
     "status": "completed"
    },
    "tags": []
   },
   "source": [
    "The plot above shows mean SHAP value by dummy variables. The higher the SHAP value the higher the importance of the dummy variable.\n",
    "\n",
    "Finally, a caveat to be noted. We are looking at importances of only individual dummy variables, but we are interested in the importances of the feature group rather than the individual categories within the feature group indicated by the dummy variables we created. \n",
    "One way to evaluate importances for the entire feature group using SHAP values is to simply average the SHAP values for individual dummy variable catergories.\n",
    "So, proceeding with evaluating SHAP values for the entire feature groups."
   ]
  },
  {
   "cell_type": "code",
   "execution_count": 33,
   "id": "167d91f7",
   "metadata": {
    "execution": {
     "iopub.execute_input": "2023-01-17T15:46:12.025312Z",
     "iopub.status.busy": "2023-01-17T15:46:12.024828Z",
     "iopub.status.idle": "2023-01-17T15:46:12.114208Z",
     "shell.execute_reply": "2023-01-17T15:46:12.112234Z"
    },
    "papermill": {
     "duration": 0.127131,
     "end_time": "2023-01-17T15:46:12.117895",
     "exception": false,
     "start_time": "2023-01-17T15:46:11.990764",
     "status": "completed"
    },
    "tags": []
   },
   "outputs": [],
   "source": [
    "lr_shap_sum = [sum(i) for i in zip(*abs(lr_shap_values.values))]\n",
    "lr_shap_mean = [x/3624 for x in lr_shap_sum]\n",
    "lr_shap_df = pd.DataFrame()\n",
    "lr_shap_df['features'] = data.columns[:-1]\n",
    "lr_shap_df['shap_mean'] = lr_shap_mean\n",
    "\n",
    "lr_shap_total = pd.DataFrame()\n",
    "lr_shap_total['features'] = data_features\n",
    "lr_shap_total['shap_total'] = ''\n",
    "for i in range(22) :\n",
    "    lr_shap_sub = lr_shap_df[lr_shap_df['features'].str.startswith(lr_shap_total.iloc[i,0])]\n",
    "    lr_shap_mean = sum(lr_shap_sub['shap_mean'])/len(lr_shap_sub['shap_mean'])\n",
    "    lr_shap_total.at[i, 'shap_total'] = lr_shap_mean\n",
    "lr_shap_total.sort_values(by=['shap_total'], inplace = True)"
   ]
  },
  {
   "cell_type": "markdown",
   "id": "6f4cd2c8",
   "metadata": {
    "papermill": {
     "duration": 0.023414,
     "end_time": "2023-01-17T15:46:12.164213",
     "exception": false,
     "start_time": "2023-01-17T15:46:12.140799",
     "status": "completed"
    },
    "tags": []
   },
   "source": [
    "Now, plotting SHAP value vs Feature group bar plot."
   ]
  },
  {
   "cell_type": "code",
   "execution_count": 34,
   "id": "e4296ad2",
   "metadata": {
    "execution": {
     "iopub.execute_input": "2023-01-17T15:46:12.213930Z",
     "iopub.status.busy": "2023-01-17T15:46:12.213477Z",
     "iopub.status.idle": "2023-01-17T15:46:12.532430Z",
     "shell.execute_reply": "2023-01-17T15:46:12.531184Z"
    },
    "papermill": {
     "duration": 0.348643,
     "end_time": "2023-01-17T15:46:12.535316",
     "exception": false,
     "start_time": "2023-01-17T15:46:12.186673",
     "status": "completed"
    },
    "tags": []
   },
   "outputs": [
    {
     "data": {
      "image/png": "[encoded data removed]",
      "text/plain": [
       "<Figure size 432x288 with 1 Axes>"
      ]
     },
     "metadata": {
      "needs_background": "light"
     },
     "output_type": "display_data"
    }
   ],
   "source": [
    "plt.barh(lr_shap_total['features'], lr_shap_total['shap_total'])\n",
    "plt.show()"
   ]
  },
  {
   "cell_type": "markdown",
   "id": "3a6b943a",
   "metadata": {
    "papermill": {
     "duration": 0.021299,
     "end_time": "2023-01-17T15:46:12.578349",
     "exception": false,
     "start_time": "2023-01-17T15:46:12.557050",
     "status": "completed"
    },
    "tags": []
   },
   "source": [
    "So, **expiration**(duration in which coupon expires), **coupon**(type of coupon), **destination**, **direction_same**(whether restaurant/bar is in the same direction as destination) have the most importance, in that order. Refer to data source for more details of what the features represent."
   ]
  },
  {
   "cell_type": "markdown",
   "id": "640312f2",
   "metadata": {
    "papermill": {
     "duration": 0.021046,
     "end_time": "2023-01-17T15:46:12.621630",
     "exception": false,
     "start_time": "2023-01-17T15:46:12.600584",
     "status": "completed"
    },
    "tags": []
   },
   "source": [
    "#### **XGBoost**\n",
    "Repeating the same for XGBoost to get feature importances using SHAP values."
   ]
  },
  {
   "cell_type": "code",
   "execution_count": 35,
   "id": "49bb1fbe",
   "metadata": {
    "execution": {
     "iopub.execute_input": "2023-01-17T15:46:12.665784Z",
     "iopub.status.busy": "2023-01-17T15:46:12.665343Z",
     "iopub.status.idle": "2023-01-17T15:46:24.846913Z",
     "shell.execute_reply": "2023-01-17T15:46:24.845967Z"
    },
    "papermill": {
     "duration": 12.207201,
     "end_time": "2023-01-17T15:46:24.850016",
     "exception": false,
     "start_time": "2023-01-17T15:46:12.642815",
     "status": "completed"
    },
    "tags": []
   },
   "outputs": [
    {
     "name": "stderr",
     "output_type": "stream",
     "text": [
      "ntree_limit is deprecated, use `iteration_range` or model slicing instead.\n"
     ]
    }
   ],
   "source": [
    "explainer = shap.TreeExplainer(xgb_grid.best_estimator_)\n",
    "xg_shap_values = explainer.shap_values(X_test)"
   ]
  },
  {
   "cell_type": "markdown",
   "id": "9a20a3c7",
   "metadata": {
    "papermill": {
     "duration": 0.022521,
     "end_time": "2023-01-17T15:46:24.897699",
     "exception": false,
     "start_time": "2023-01-17T15:46:24.875178",
     "status": "completed"
    },
    "tags": []
   },
   "source": [
    "Plotting, the summary bar plot."
   ]
  },
  {
   "cell_type": "code",
   "execution_count": 36,
   "id": "cdcd228c",
   "metadata": {
    "execution": {
     "iopub.execute_input": "2023-01-17T15:46:24.943609Z",
     "iopub.status.busy": "2023-01-17T15:46:24.943206Z",
     "iopub.status.idle": "2023-01-17T15:46:25.429597Z",
     "shell.execute_reply": "2023-01-17T15:46:25.428347Z"
    },
    "papermill": {
     "duration": 0.513583,
     "end_time": "2023-01-17T15:46:25.432684",
     "exception": false,
     "start_time": "2023-01-17T15:46:24.919101",
     "status": "completed"
    },
    "tags": []
   },
   "outputs": [
    {
     "data": {
      "image/png": "[encoded data removed]",
      "text/plain": [
       "<Figure size 576x684 with 1 Axes>"
      ]
     },
     "metadata": {
      "needs_background": "light"
     },
     "output_type": "display_data"
    }
   ],
   "source": [
    "shap.summary_plot(xg_shap_values, X_test, plot_type=\"bar\")"
   ]
  },
  {
   "cell_type": "markdown",
   "id": "7c6f5c95",
   "metadata": {
    "papermill": {
     "duration": 0.021613,
     "end_time": "2023-01-17T15:46:25.476968",
     "exception": false,
     "start_time": "2023-01-17T15:46:25.455355",
     "status": "completed"
    },
    "tags": []
   },
   "source": [
    "We mostly see the same order we got for LR model.\n",
    "However, now as before we want importances for the entire feature group. So, repeating the same process to get SHAP values for the entire feature group."
   ]
  },
  {
   "cell_type": "code",
   "execution_count": 37,
   "id": "d4ce57d3",
   "metadata": {
    "execution": {
     "iopub.execute_input": "2023-01-17T15:46:25.523506Z",
     "iopub.status.busy": "2023-01-17T15:46:25.523013Z",
     "iopub.status.idle": "2023-01-17T15:46:25.609925Z",
     "shell.execute_reply": "2023-01-17T15:46:25.608740Z"
    },
    "papermill": {
     "duration": 0.11403,
     "end_time": "2023-01-17T15:46:25.612903",
     "exception": false,
     "start_time": "2023-01-17T15:46:25.498873",
     "status": "completed"
    },
    "tags": []
   },
   "outputs": [],
   "source": [
    "xg_shap_sum = [sum(i) for i in zip(*abs(xg_shap_values))]\n",
    "xg_shap_mean = [x/3624 for x in xg_shap_sum]\n",
    "xg_shap_df = pd.DataFrame()\n",
    "xg_shap_df['features'] = data.columns[:-1]\n",
    "xg_shap_df['shap_mean'] = xg_shap_mean\n",
    "\n",
    "xg_shap_total = pd.DataFrame()\n",
    "xg_shap_total['features'] = data_features\n",
    "xg_shap_total['shap_total'] = ''\n",
    "for i in range(22) :\n",
    "    xg_shap_sub = xg_shap_df[xg_shap_df['features'].str.startswith(xg_shap_total.iloc[i,0])]\n",
    "    xg_shap_mean = sum(xg_shap_sub['shap_mean'])/len(xg_shap_sub['shap_mean'])\n",
    "    xg_shap_total.at[i, 'shap_total'] = xg_shap_mean\n",
    "xg_shap_total.sort_values(by=['shap_total'], inplace = True)"
   ]
  },
  {
   "cell_type": "markdown",
   "id": "5fb5750e",
   "metadata": {
    "papermill": {
     "duration": 0.022206,
     "end_time": "2023-01-17T15:46:25.657580",
     "exception": false,
     "start_time": "2023-01-17T15:46:25.635374",
     "status": "completed"
    },
    "tags": []
   },
   "source": [
    "plotting SHAP value vs Feature group bar plot."
   ]
  },
  {
   "cell_type": "code",
   "execution_count": 38,
   "id": "ab436ac8",
   "metadata": {
    "execution": {
     "iopub.execute_input": "2023-01-17T15:46:25.704744Z",
     "iopub.status.busy": "2023-01-17T15:46:25.704337Z",
     "iopub.status.idle": "2023-01-17T15:46:25.998203Z",
     "shell.execute_reply": "2023-01-17T15:46:25.996898Z"
    },
    "papermill": {
     "duration": 0.321367,
     "end_time": "2023-01-17T15:46:26.000852",
     "exception": false,
     "start_time": "2023-01-17T15:46:25.679485",
     "status": "completed"
    },
    "tags": []
   },
   "outputs": [
    {
     "data": {
      "image/png": "[encoded data removed]",
      "text/plain": [
       "<Figure size 432x288 with 1 Axes>"
      ]
     },
     "metadata": {
      "needs_background": "light"
     },
     "output_type": "display_data"
    }
   ],
   "source": [
    "plt.barh(xg_shap_total['features'], xg_shap_total['shap_total'])\n",
    "plt.show()"
   ]
  },
  {
   "cell_type": "markdown",
   "id": "2287a664",
   "metadata": {
    "papermill": {
     "duration": 0.023216,
     "end_time": "2023-01-17T15:46:26.047458",
     "exception": false,
     "start_time": "2023-01-17T15:46:26.024242",
     "status": "completed"
    },
    "tags": []
   },
   "source": [
    "So, we get mostly the same order as we got earlier for LR model feature importance analysis."
   ]
  },
  {
   "cell_type": "markdown",
   "id": "46bbd125",
   "metadata": {
    "papermill": {
     "duration": 0.022262,
     "end_time": "2023-01-17T15:46:26.091921",
     "exception": false,
     "start_time": "2023-01-17T15:46:26.069659",
     "status": "completed"
    },
    "tags": []
   },
   "source": [
    "## **Summary**\n",
    "\n",
    "#### **1.** Build a Stacking Classifer with an accuracy of **0.78**. This a not a significant improvement from either SVC, RF or XGB all of which have accuracy **0.76**. So, its not computationally worth it.\n",
    "#### **2.** We, interpreted that the features, **expiration**, **coupon**, **destination**, **CoffeeHouse** have the most importance/impact. So, factors such as duration in which coupon expires, the type of coupon offered, destination of the driver and frequency of Coffee House visits have the most impact on whether the driver will accept the coupon or not."
   ]
  }
 ],
 "metadata": {
  "kernelspec": {
   "display_name": "Python 3",
   "language": "python",
   "name": "python3"
  },
  "language_info": {
   "codemirror_mode": {
    "name": "ipython",
    "version": 3
   },
   "file_extension": ".py",
   "mimetype": "text/x-python",
   "name": "python",
   "nbconvert_exporter": "python",
   "pygments_lexer": "ipython3",
   "version": "3.7.12"
  },
  "papermill": {
   "default_parameters": {},
   "duration": 1447.856724,
   "end_time": "2023-01-17T15:46:27.340879",
   "environment_variables": {},
   "exception": null,
   "input_path": "__notebook__.ipynb",
   "output_path": "__notebook__.ipynb",
   "parameters": {},
   "start_time": "2023-01-17T15:22:19.484155",
   "version": "2.3.4"
  }
 },
 "nbformat": 4,
 "nbformat_minor": 5
}
